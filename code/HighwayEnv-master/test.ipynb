{
 "cells": [
  {
   "cell_type": "markdown",
   "metadata": {},
   "source": [
    "# Making an env"
   ]
  },
  {
   "cell_type": "code",
   "execution_count": null,
   "metadata": {},
   "outputs": [],
   "source": [
    "import gymnasium as gym\n",
    "from matplotlib import pyplot as plt\n",
    "%matplotlib inline\n",
    "\n",
    "env = gym.make('highway-v0', render_mode='rgb_array')\n",
    "env.reset()\n",
    "for _ in range(3):\n",
    "    action = env.action_type.actions_indexes[\"IDLE\"]\n",
    "    obs, reward, done, truncated, info = env.step(action)\n",
    "    env.render()\n",
    "\n",
    "plt.imshow(env.render())\n",
    "plt.show()\n",
    "env.close()"
   ]
  },
  {
   "cell_type": "markdown",
   "metadata": {},
   "source": [
    "# Configuring an env"
   ]
  },
  {
   "cell_type": "code",
   "execution_count": null,
   "metadata": {},
   "outputs": [],
   "source": [
    "import pprint\n",
    "\n",
    "env = gym.make(\"highway-v0\", render_mode='rgb_array')\n",
    "pprint.pprint(env.config)"
   ]
  },
  {
   "cell_type": "code",
   "execution_count": null,
   "metadata": {},
   "outputs": [],
   "source": [
    "env.config[\"lanes_count\"] = 2\n",
    "env.reset()\n",
    "plt.imshow(env.render())\n",
    "plt.show()\n",
    "env.close()"
   ]
  },
  {
   "cell_type": "markdown",
   "metadata": {},
   "source": [
    "# Training"
   ]
  },
  {
   "cell_type": "code",
   "execution_count": null,
   "metadata": {},
   "outputs": [],
   "source": [
    "import gymnasium as gym\n",
    "import highway_env\n",
    "from stable_baselines3 import DQN\n",
    "\n",
    "env = gym.make(\"highway-fast-v0\")\n",
    "model = DQN('MlpPolicy', env,\n",
    "              policy_kwargs=dict(net_arch=[256, 256]),\n",
    "              learning_rate=5e-4,\n",
    "              buffer_size=15000,\n",
    "              learning_starts=200,\n",
    "              batch_size=32,\n",
    "              gamma=0.8,\n",
    "              train_freq=1,\n",
    "              gradient_steps=1,\n",
    "              target_update_interval=50,\n",
    "              verbose=1,\n",
    "              tensorboard_log=\"highway_dqn/\")\n",
    "model.learn(int(2e4))\n",
    "model.save(\"highway_dqn/model\")\n",
    "\n",
    "# Load and test saved model\n",
    "model = DQN.load(\"highway_dqn/model\")\n",
    "while True:\n",
    "  done = truncated = False\n",
    "  obs, info = env.reset()\n",
    "  while not (done or truncated):\n",
    "    action, _states = model.predict(obs, deterministic=True)\n",
    "    obs, reward, done, truncated, info = env.step(action)\n",
    "    env.render()"
   ]
  },
  {
   "cell_type": "code",
   "execution_count": null,
   "metadata": {},
   "outputs": [],
   "source": [
    "import gymnasium as gym\n",
    "from gymnasium.wrappers import RecordVideo\n",
    "from stable_baselines3 import DQN\n",
    "\n",
    "import highway_env\n",
    "#highway_env.register_highway_envs()\n",
    "\n",
    "env = gym.make(\"highway-fast-v0\", render_mode=\"rgb_array\")\n",
    "# Run the trained model and record video\n",
    "model = DQN.load(\"highway_dqn/model\", env=env)\n",
    "env = RecordVideo(env, video_folder=\"highway_dqn/videos\", episode_trigger=lambda e: True)\n",
    "env.unwrapped.set_record_video_wrapper(env)\n",
    "#env.configure({\"simulation_frequency\": 15})  # Higher FPS for rendering\n",
    "\n",
    "for videos in range(10):\n",
    "    done = truncated = False\n",
    "    obs, info = env.reset()\n",
    "    while not (done or truncated):\n",
    "        # Predict\n",
    "        action, _states = model.predict(obs, deterministic=True)\n",
    "        # Get reward\n",
    "        obs, reward, done, truncated, info = env.step(action)\n",
    "        # Render\n",
    "        env.render()\n",
    "env.close()\n"
   ]
  },
  {
   "cell_type": "code",
   "execution_count": null,
   "metadata": {},
   "outputs": [],
   "source": [
    "import numpy as np\n",
    "import gymnasium as gym\n",
    "from gymnasium.wrappers import RecordVideo\n",
    "from stable_baselines3 import DQN, DDPG, PPO\n",
    "from stable_baselines3.common.env_util import make_vec_env\n",
    "from stable_baselines3.common.noise import NormalActionNoise\n",
    "from stable_baselines3.common.vec_env import SubprocVecEnv\n",
    "\n",
    "import highway_env\n",
    "\n",
    "\n",
    "TRAIN = False\n",
    "\n",
    "if __name__ == '__main__':\n",
    "    n_cpu = 6\n",
    "    batch_size = 64\n",
    "    env = make_vec_env(\"racetrack-v0\", n_envs=n_cpu, vec_env_cls=SubprocVecEnv)\n",
    "    model = PPO(\"MlpPolicy\",\n",
    "                env,\n",
    "                policy_kwargs=dict(net_arch=[dict(pi=[256, 256], vf=[256, 256])]),\n",
    "                n_steps=batch_size * 12 // n_cpu,\n",
    "                batch_size=batch_size,\n",
    "                n_epochs=10,\n",
    "                learning_rate=5e-4,\n",
    "                gamma=0.9,\n",
    "                verbose=2,\n",
    "                tensorboard_log=\"racetrack_ppo/\")\n",
    "    # Train the model\n",
    "    if TRAIN:\n",
    "        model.learn(total_timesteps=int(1e5))\n",
    "        model.save(\"racetrack_ppo/model\")\n",
    "        del model\n",
    "\n",
    "    # Run the algorithm\n",
    "    model = PPO.load(\"racetrack_ppo/model\", env=env)\n",
    "\n",
    "    env = gym.make(\"racetrack-v0\", render_mode=\"rgb_array\")\n",
    "    env = RecordVideo(env, video_folder=\"racetrack_ppo/videos\", episode_trigger=lambda e: True)\n",
    "    env.unwrapped.set_record_video_wrapper(env)\n",
    "\n",
    "    for video in range(10):\n",
    "        done = truncated = False\n",
    "        obs, info = env.reset()\n",
    "        while not (done or truncated):\n",
    "            # Predict\n",
    "            action, _states = model.predict(obs, deterministic=True)\n",
    "            # Get reward\n",
    "            obs, reward, done, truncated, info = env.step(action)\n",
    "            # Render\n",
    "            env.render()\n",
    "    env.close()\n"
   ]
  },
  {
   "cell_type": "code",
   "execution_count": 3,
   "metadata": {},
   "outputs": [
    {
     "name": "stdout",
     "output_type": "stream",
     "text": [
      "Wrapping the env with a `Monitor` wrapper\n",
      "Wrapping the env in a DummyVecEnv.\n"
     ]
    },
    {
     "name": "stderr",
     "output_type": "stream",
     "text": [
      "d:\\HDX\\.conda\\envs\\highway2\\lib\\site-packages\\gymnasium\\wrappers\\record_video.py:94: UserWarning: \u001b[33mWARN: Overwriting existing videos at d:\\HDX\\SJTU\\大三\\AI\\2023-SJTU-AI-HW\\Project1\\code\\mycode\\parking_her\\videos folder (try specifying a different `video_folder` for the `RecordVideo` wrapper if this is not desired)\u001b[0m\n",
      "  logger.warn(\n"
     ]
    },
    {
     "name": "stdout",
     "output_type": "stream",
     "text": [
      "Moviepy - Building video d:\\HDX\\SJTU\\大三\\AI\\2023-SJTU-AI-HW\\Project1\\code\\mycode\\parking_her\\videos\\rl-video-episode-0.mp4.\n",
      "Moviepy - Writing video d:\\HDX\\SJTU\\大三\\AI\\2023-SJTU-AI-HW\\Project1\\code\\mycode\\parking_her\\videos\\rl-video-episode-0.mp4\n",
      "\n"
     ]
    },
    {
     "name": "stderr",
     "output_type": "stream",
     "text": [
      "                                                           \r"
     ]
    },
    {
     "name": "stdout",
     "output_type": "stream",
     "text": [
      "Moviepy - Done !\n",
      "Moviepy - video ready d:\\HDX\\SJTU\\大三\\AI\\2023-SJTU-AI-HW\\Project1\\code\\mycode\\parking_her\\videos\\rl-video-episode-0.mp4\n",
      "Moviepy - Building video d:\\HDX\\SJTU\\大三\\AI\\2023-SJTU-AI-HW\\Project1\\code\\mycode\\parking_her\\videos\\rl-video-episode-1.mp4.\n",
      "Moviepy - Writing video d:\\HDX\\SJTU\\大三\\AI\\2023-SJTU-AI-HW\\Project1\\code\\mycode\\parking_her\\videos\\rl-video-episode-1.mp4\n",
      "\n"
     ]
    },
    {
     "name": "stderr",
     "output_type": "stream",
     "text": [
      "                                                             \r"
     ]
    },
    {
     "name": "stdout",
     "output_type": "stream",
     "text": [
      "Moviepy - Done !\n",
      "Moviepy - video ready d:\\HDX\\SJTU\\大三\\AI\\2023-SJTU-AI-HW\\Project1\\code\\mycode\\parking_her\\videos\\rl-video-episode-1.mp4\n",
      "Moviepy - Building video d:\\HDX\\SJTU\\大三\\AI\\2023-SJTU-AI-HW\\Project1\\code\\mycode\\parking_her\\videos\\rl-video-episode-2.mp4.\n",
      "Moviepy - Writing video d:\\HDX\\SJTU\\大三\\AI\\2023-SJTU-AI-HW\\Project1\\code\\mycode\\parking_her\\videos\\rl-video-episode-2.mp4\n",
      "\n"
     ]
    },
    {
     "name": "stderr",
     "output_type": "stream",
     "text": [
      "                                                           \r"
     ]
    },
    {
     "name": "stdout",
     "output_type": "stream",
     "text": [
      "Moviepy - Done !\n",
      "Moviepy - video ready d:\\HDX\\SJTU\\大三\\AI\\2023-SJTU-AI-HW\\Project1\\code\\mycode\\parking_her\\videos\\rl-video-episode-2.mp4\n",
      "Moviepy - Building video d:\\HDX\\SJTU\\大三\\AI\\2023-SJTU-AI-HW\\Project1\\code\\mycode\\parking_her\\videos\\rl-video-episode-3.mp4.\n",
      "Moviepy - Writing video d:\\HDX\\SJTU\\大三\\AI\\2023-SJTU-AI-HW\\Project1\\code\\mycode\\parking_her\\videos\\rl-video-episode-3.mp4\n",
      "\n"
     ]
    },
    {
     "name": "stderr",
     "output_type": "stream",
     "text": [
      "                                                             "
     ]
    },
    {
     "name": "stdout",
     "output_type": "stream",
     "text": [
      "Moviepy - Done !\n",
      "Moviepy - video ready d:\\HDX\\SJTU\\大三\\AI\\2023-SJTU-AI-HW\\Project1\\code\\mycode\\parking_her\\videos\\rl-video-episode-3.mp4\n"
     ]
    },
    {
     "name": "stderr",
     "output_type": "stream",
     "text": [
      "\r"
     ]
    },
    {
     "name": "stdout",
     "output_type": "stream",
     "text": [
      "Moviepy - Building video d:\\HDX\\SJTU\\大三\\AI\\2023-SJTU-AI-HW\\Project1\\code\\mycode\\parking_her\\videos\\rl-video-episode-4.mp4.\n",
      "Moviepy - Writing video d:\\HDX\\SJTU\\大三\\AI\\2023-SJTU-AI-HW\\Project1\\code\\mycode\\parking_her\\videos\\rl-video-episode-4.mp4\n",
      "\n"
     ]
    },
    {
     "name": "stderr",
     "output_type": "stream",
     "text": [
      "                                                             \r"
     ]
    },
    {
     "name": "stdout",
     "output_type": "stream",
     "text": [
      "Moviepy - Done !\n",
      "Moviepy - video ready d:\\HDX\\SJTU\\大三\\AI\\2023-SJTU-AI-HW\\Project1\\code\\mycode\\parking_her\\videos\\rl-video-episode-4.mp4\n",
      "Moviepy - Building video d:\\HDX\\SJTU\\大三\\AI\\2023-SJTU-AI-HW\\Project1\\code\\mycode\\parking_her\\videos\\rl-video-episode-5.mp4.\n",
      "Moviepy - Writing video d:\\HDX\\SJTU\\大三\\AI\\2023-SJTU-AI-HW\\Project1\\code\\mycode\\parking_her\\videos\\rl-video-episode-5.mp4\n",
      "\n"
     ]
    },
    {
     "name": "stderr",
     "output_type": "stream",
     "text": [
      "                                                           \r"
     ]
    },
    {
     "name": "stdout",
     "output_type": "stream",
     "text": [
      "Moviepy - Done !\n",
      "Moviepy - video ready d:\\HDX\\SJTU\\大三\\AI\\2023-SJTU-AI-HW\\Project1\\code\\mycode\\parking_her\\videos\\rl-video-episode-5.mp4\n",
      "Moviepy - Building video d:\\HDX\\SJTU\\大三\\AI\\2023-SJTU-AI-HW\\Project1\\code\\mycode\\parking_her\\videos\\rl-video-episode-6.mp4.\n",
      "Moviepy - Writing video d:\\HDX\\SJTU\\大三\\AI\\2023-SJTU-AI-HW\\Project1\\code\\mycode\\parking_her\\videos\\rl-video-episode-6.mp4\n",
      "\n"
     ]
    },
    {
     "name": "stderr",
     "output_type": "stream",
     "text": [
      "                                                             \r"
     ]
    },
    {
     "name": "stdout",
     "output_type": "stream",
     "text": [
      "Moviepy - Done !\n",
      "Moviepy - video ready d:\\HDX\\SJTU\\大三\\AI\\2023-SJTU-AI-HW\\Project1\\code\\mycode\\parking_her\\videos\\rl-video-episode-6.mp4\n",
      "Moviepy - Building video d:\\HDX\\SJTU\\大三\\AI\\2023-SJTU-AI-HW\\Project1\\code\\mycode\\parking_her\\videos\\rl-video-episode-7.mp4.\n",
      "Moviepy - Writing video d:\\HDX\\SJTU\\大三\\AI\\2023-SJTU-AI-HW\\Project1\\code\\mycode\\parking_her\\videos\\rl-video-episode-7.mp4\n",
      "\n"
     ]
    },
    {
     "name": "stderr",
     "output_type": "stream",
     "text": [
      "                                                             \r"
     ]
    },
    {
     "name": "stdout",
     "output_type": "stream",
     "text": [
      "Moviepy - Done !\n",
      "Moviepy - video ready d:\\HDX\\SJTU\\大三\\AI\\2023-SJTU-AI-HW\\Project1\\code\\mycode\\parking_her\\videos\\rl-video-episode-7.mp4\n",
      "Moviepy - Building video d:\\HDX\\SJTU\\大三\\AI\\2023-SJTU-AI-HW\\Project1\\code\\mycode\\parking_her\\videos\\rl-video-episode-8.mp4.\n",
      "Moviepy - Writing video d:\\HDX\\SJTU\\大三\\AI\\2023-SJTU-AI-HW\\Project1\\code\\mycode\\parking_her\\videos\\rl-video-episode-8.mp4\n",
      "\n"
     ]
    },
    {
     "name": "stderr",
     "output_type": "stream",
     "text": [
      "                                                             "
     ]
    },
    {
     "name": "stdout",
     "output_type": "stream",
     "text": [
      "Moviepy - Done !\n",
      "Moviepy - video ready d:\\HDX\\SJTU\\大三\\AI\\2023-SJTU-AI-HW\\Project1\\code\\mycode\\parking_her\\videos\\rl-video-episode-8.mp4\n"
     ]
    },
    {
     "name": "stderr",
     "output_type": "stream",
     "text": [
      "\r"
     ]
    },
    {
     "name": "stdout",
     "output_type": "stream",
     "text": [
      "Moviepy - Building video d:\\HDX\\SJTU\\大三\\AI\\2023-SJTU-AI-HW\\Project1\\code\\mycode\\parking_her\\videos\\rl-video-episode-9.mp4.\n",
      "Moviepy - Writing video d:\\HDX\\SJTU\\大三\\AI\\2023-SJTU-AI-HW\\Project1\\code\\mycode\\parking_her\\videos\\rl-video-episode-9.mp4\n",
      "\n"
     ]
    },
    {
     "name": "stderr",
     "output_type": "stream",
     "text": [
      "                                                           \r"
     ]
    },
    {
     "name": "stdout",
     "output_type": "stream",
     "text": [
      "Moviepy - Done !\n",
      "Moviepy - video ready d:\\HDX\\SJTU\\大三\\AI\\2023-SJTU-AI-HW\\Project1\\code\\mycode\\parking_her\\videos\\rl-video-episode-9.mp4\n"
     ]
    }
   ],
   "source": [
    "import numpy as np\n",
    "import gymnasium as gym\n",
    "from gymnasium.wrappers import RecordVideo\n",
    "from stable_baselines3 import SAC, DDPG, PPO\n",
    "from stable_baselines3.common.env_util import make_vec_env\n",
    "from stable_baselines3.common.noise import NormalActionNoise\n",
    "from stable_baselines3.common.vec_env import SubprocVecEnv\n",
    "\n",
    "import highway_env\n",
    "\n",
    "env = gym.make('parking-v0')\n",
    "\n",
    "N_EPISODES = 10  # @param {type: \"integer\"}\n",
    "\n",
    "model = SAC.load(\"parking_her/model\", env=env)\n",
    "\n",
    "env = gym.make('parking-v0', render_mode='rgb_array')\n",
    "env = RecordVideo(env, video_folder=\"parking_her/videos\", episode_trigger=lambda e: True)\n",
    "for episode in range(N_EPISODES):\n",
    "    obs, info = env.reset()\n",
    "    done = truncated = False\n",
    "    while not (done or truncated):\n",
    "        action, _ = model.predict(obs, deterministic=True)\n",
    "        obs, reward, done, truncated, info = env.step(action)\n",
    "env.close()"
   ]
  }
 ],
 "metadata": {
  "kernelspec": {
   "display_name": "highway",
   "language": "python",
   "name": "python3"
  },
  "language_info": {
   "codemirror_mode": {
    "name": "ipython",
    "version": 3
   },
   "file_extension": ".py",
   "mimetype": "text/x-python",
   "name": "python",
   "nbconvert_exporter": "python",
   "pygments_lexer": "ipython3",
   "version": "3.9.18"
  },
  "orig_nbformat": 4
 },
 "nbformat": 4,
 "nbformat_minor": 2
}
